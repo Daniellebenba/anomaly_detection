{
 "cells": [
  {
   "cell_type": "markdown",
   "id": "49384e6b",
   "metadata": {},
   "source": [
    "# Imports"
   ]
  },
  {
   "cell_type": "code",
   "execution_count": 15,
   "id": "39557866",
   "metadata": {},
   "outputs": [
    {
     "name": "stdout",
     "output_type": "stream",
     "text": [
      "Enumerating objects: 38, done.\n",
      "Counting objects: 100% (38/38), done.\n",
      "Delta compression using up to 4 threads\n",
      "Compressing objects: 100% (32/32), done.\n",
      "Writing objects: 100% (34/34), 123.39 MiB | 5.94 MiB/s, done.\n",
      "Total 34 (delta 8), reused 1 (delta 0)\n",
      "remote: \n",
      "remote: To create a merge request for anomaly_detection, visit:\u001b[K\n",
      "remote:   https://gitlab.com/Nuc1eonCyb3r/data-science/nabu/-/merge_requests/new?merge_request%5Bsource_branch%5D=anomaly_detection\u001b[K\n",
      "remote: \n",
      "To gitlab.com:Nuc1eonCyb3r/data-science/nabu.git\n",
      "   f35190f..9eaa58e  anomaly_detection -> anomaly_detection\n"
     ]
    }
   ],
   "source": [
    "# !git commit -m \"change project structure and research design\"\n",
    "\n",
    "# %cd ..\n",
    "!git push"
   ]
  },
  {
   "cell_type": "code",
   "execution_count": 17,
   "id": "65da8e45",
   "metadata": {},
   "outputs": [
    {
     "name": "stdout",
     "output_type": "stream",
     "text": [
      "remote: Enumerating objects: 5, done.\u001b[K\n",
      "remote: Counting objects: 100% (5/5), done.\u001b[K\n",
      "remote: Compressing objects: 100% (3/3), done.\u001b[K\n",
      "remote: Total 3 (delta 1), reused 0 (delta 0), pack-reused 0\u001b[K\n",
      "Unpacking objects: 100% (3/3), 365 bytes | 365.00 KiB/s, done.\n",
      "From gitlab.com:Nuc1eonCyb3r/data-science/nabu\n",
      "   9eaa58e..518e549  anomaly_detection -> origin/anomaly_detection\n",
      "Updating 9eaa58e..518e549\n",
      "Fast-forward\n",
      " .gitignore | 2 \u001b[32m++\u001b[m\n",
      " 1 file changed, 2 insertions(+)\n"
     ]
    }
   ],
   "source": [
    "!git pull"
   ]
  },
  {
   "cell_type": "code",
   "execution_count": 1,
   "id": "5c907eaf",
   "metadata": {
    "collapsed": true,
    "jupyter": {
     "outputs_hidden": true
    }
   },
   "outputs": [
    {
     "name": "stdout",
     "output_type": "stream",
     "text": [
      "Requirement already satisfied: wheel in /home/ubuntu/pyenv/lib/python3.8/site-packages (0.37.0)\n",
      "Requirement already satisfied: pandas in /home/ubuntu/pyenv/lib/python3.8/site-packages (1.3.1)\n",
      "Requirement already satisfied: matplotlib in /home/ubuntu/pyenv/lib/python3.8/site-packages (3.4.2)\n",
      "Requirement already satisfied: plotly in /home/ubuntu/pyenv/lib/python3.8/site-packages (5.1.0)\n",
      "Requirement already satisfied: wandb in /home/ubuntu/pyenv/lib/python3.8/site-packages (0.12.1)\n",
      "Requirement already satisfied: autohash in /home/ubuntu/pyenv/lib/python3.8/site-packages (0.0.1)\n",
      "Requirement already satisfied: pytz>=2017.3 in /home/ubuntu/pyenv/lib/python3.8/site-packages (from pandas) (2021.1)\n",
      "Requirement already satisfied: python-dateutil>=2.7.3 in /home/ubuntu/pyenv/lib/python3.8/site-packages (from pandas) (2.8.2)\n",
      "Requirement already satisfied: numpy>=1.17.3 in /home/ubuntu/pyenv/lib/python3.8/site-packages (from pandas) (1.21.2)\n",
      "Requirement already satisfied: kiwisolver>=1.0.1 in /home/ubuntu/pyenv/lib/python3.8/site-packages (from matplotlib) (1.3.1)\n",
      "Requirement already satisfied: pillow>=6.2.0 in /home/ubuntu/pyenv/lib/python3.8/site-packages (from matplotlib) (8.3.1)\n",
      "Requirement already satisfied: pyparsing>=2.2.1 in /home/ubuntu/pyenv/lib/python3.8/site-packages (from matplotlib) (2.4.7)\n",
      "Requirement already satisfied: cycler>=0.10 in /home/ubuntu/pyenv/lib/python3.8/site-packages (from matplotlib) (0.10.0)\n",
      "Requirement already satisfied: tenacity>=6.2.0 in /home/ubuntu/pyenv/lib/python3.8/site-packages (from plotly) (8.0.1)\n",
      "Requirement already satisfied: six in /home/ubuntu/pyenv/lib/python3.8/site-packages (from plotly) (1.15.0)\n",
      "Requirement already satisfied: Click!=8.0.0,>=7.0 in /home/ubuntu/pyenv/lib/python3.8/site-packages (from wandb) (8.0.1)\n",
      "Requirement already satisfied: requests<3,>=2.0.0 in /home/ubuntu/pyenv/lib/python3.8/site-packages (from wandb) (2.26.0)\n",
      "Requirement already satisfied: PyYAML in /home/ubuntu/pyenv/lib/python3.8/site-packages (from wandb) (5.4.1)\n",
      "Requirement already satisfied: docker-pycreds>=0.4.0 in /home/ubuntu/pyenv/lib/python3.8/site-packages (from wandb) (0.4.0)\n",
      "Requirement already satisfied: pathtools in /home/ubuntu/pyenv/lib/python3.8/site-packages (from wandb) (0.1.2)\n",
      "Requirement already satisfied: promise<3,>=2.0 in /home/ubuntu/pyenv/lib/python3.8/site-packages (from wandb) (2.3)\n",
      "Requirement already satisfied: shortuuid>=0.5.0 in /home/ubuntu/pyenv/lib/python3.8/site-packages (from wandb) (1.0.1)\n",
      "Requirement already satisfied: subprocess32>=3.5.3 in /home/ubuntu/pyenv/lib/python3.8/site-packages (from wandb) (3.5.4)\n",
      "Requirement already satisfied: protobuf>=3.12.0 in /home/ubuntu/pyenv/lib/python3.8/site-packages (from wandb) (3.17.3)\n",
      "Requirement already satisfied: GitPython>=1.0.0 in /home/ubuntu/pyenv/lib/python3.8/site-packages (from wandb) (3.1.18)\n",
      "Requirement already satisfied: sentry-sdk>=1.0.0 in /home/ubuntu/pyenv/lib/python3.8/site-packages (from wandb) (1.3.1)\n",
      "Requirement already satisfied: configparser>=3.8.1 in /home/ubuntu/pyenv/lib/python3.8/site-packages (from wandb) (5.0.2)\n",
      "Requirement already satisfied: psutil>=5.0.0 in /home/ubuntu/pyenv/lib/python3.8/site-packages (from wandb) (5.8.0)\n",
      "Requirement already satisfied: charset-normalizer~=2.0.0; python_version >= \"3\" in /home/ubuntu/pyenv/lib/python3.8/site-packages (from requests<3,>=2.0.0->wandb) (2.0.3)\n",
      "Requirement already satisfied: certifi>=2017.4.17 in /home/ubuntu/pyenv/lib/python3.8/site-packages (from requests<3,>=2.0.0->wandb) (2021.5.30)\n",
      "Requirement already satisfied: urllib3<1.27,>=1.21.1 in /home/ubuntu/pyenv/lib/python3.8/site-packages (from requests<3,>=2.0.0->wandb) (1.26.6)\n",
      "Requirement already satisfied: idna<4,>=2.5; python_version >= \"3\" in /home/ubuntu/pyenv/lib/python3.8/site-packages (from requests<3,>=2.0.0->wandb) (3.2)\n",
      "Requirement already satisfied: gitdb<5,>=4.0.1 in /home/ubuntu/pyenv/lib/python3.8/site-packages (from GitPython>=1.0.0->wandb) (4.0.7)\n",
      "Requirement already satisfied: smmap<5,>=3.0.1 in /home/ubuntu/pyenv/lib/python3.8/site-packages (from gitdb<5,>=4.0.1->GitPython>=1.0.0->wandb) (4.0.0)\n"
     ]
    }
   ],
   "source": [
    "%%bash\n",
    "pip install wheel pandas matplotlib plotly wandb autohash \n",
    "export WANDB_NOTEBOOK_NAME='Auto-Encoders-v1'"
   ]
  },
  {
   "cell_type": "code",
   "execution_count": 20,
   "id": "5448dc18",
   "metadata": {
    "collapsed": true,
    "jupyter": {
     "outputs_hidden": true
    }
   },
   "outputs": [
    {
     "name": "stdout",
     "output_type": "stream",
     "text": [
      "Requirement already satisfied: tensorflow==2.6.0 in /home/ubuntu/pyenv/lib/python3.8/site-packages (2.6.0)\n",
      "Requirement already satisfied: absl-py~=0.10 in /home/ubuntu/pyenv/lib/python3.8/site-packages (from tensorflow==2.6.0) (0.13.0)\n",
      "Requirement already satisfied: clang~=5.0 in /home/ubuntu/pyenv/lib/python3.8/site-packages (from tensorflow==2.6.0) (5.0)\n",
      "Requirement already satisfied: protobuf>=3.9.2 in /home/ubuntu/pyenv/lib/python3.8/site-packages (from tensorflow==2.6.0) (3.17.3)\n",
      "Requirement already satisfied: tensorflow-estimator~=2.6 in /home/ubuntu/pyenv/lib/python3.8/site-packages (from tensorflow==2.6.0) (2.6.0)\n",
      "Requirement already satisfied: tensorboard~=2.6 in /home/ubuntu/pyenv/lib/python3.8/site-packages (from tensorflow==2.6.0) (2.6.0)\n",
      "Requirement already satisfied: keras~=2.6 in /home/ubuntu/pyenv/lib/python3.8/site-packages (from tensorflow==2.6.0) (2.6.0)\n",
      "Requirement already satisfied: flatbuffers~=1.12.0 in /home/ubuntu/pyenv/lib/python3.8/site-packages (from tensorflow==2.6.0) (1.12)\n",
      "Requirement already satisfied: wrapt~=1.12.1 in /home/ubuntu/pyenv/lib/python3.8/site-packages (from tensorflow==2.6.0) (1.12.1)\n",
      "Collecting numpy~=1.19.2\n",
      "  Using cached numpy-1.19.5-cp38-cp38-manylinux2010_x86_64.whl (14.9 MB)\n",
      "Requirement already satisfied: h5py~=3.1.0 in /home/ubuntu/pyenv/lib/python3.8/site-packages (from tensorflow==2.6.0) (3.1.0)\n",
      "Requirement already satisfied: grpcio<2.0,>=1.37.0 in /home/ubuntu/pyenv/lib/python3.8/site-packages (from tensorflow==2.6.0) (1.40.0)\n",
      "Requirement already satisfied: google-pasta~=0.2 in /home/ubuntu/pyenv/lib/python3.8/site-packages (from tensorflow==2.6.0) (0.2.0)\n",
      "Requirement already satisfied: termcolor~=1.1.0 in /home/ubuntu/pyenv/lib/python3.8/site-packages (from tensorflow==2.6.0) (1.1.0)\n",
      "Requirement already satisfied: opt-einsum~=3.3.0 in /home/ubuntu/pyenv/lib/python3.8/site-packages (from tensorflow==2.6.0) (3.3.0)\n",
      "Requirement already satisfied: gast==0.4.0 in /home/ubuntu/pyenv/lib/python3.8/site-packages (from tensorflow==2.6.0) (0.4.0)\n",
      "Requirement already satisfied: six~=1.15.0 in /home/ubuntu/pyenv/lib/python3.8/site-packages (from tensorflow==2.6.0) (1.15.0)\n",
      "Requirement already satisfied: astunparse~=1.6.3 in /home/ubuntu/pyenv/lib/python3.8/site-packages (from tensorflow==2.6.0) (1.6.3)\n",
      "Requirement already satisfied: typing-extensions~=3.7.4 in /home/ubuntu/pyenv/lib/python3.8/site-packages (from tensorflow==2.6.0) (3.7.4.3)\n",
      "Requirement already satisfied: keras-preprocessing~=1.1.2 in /home/ubuntu/pyenv/lib/python3.8/site-packages (from tensorflow==2.6.0) (1.1.2)\n",
      "Requirement already satisfied: wheel~=0.35 in /home/ubuntu/pyenv/lib/python3.8/site-packages (from tensorflow==2.6.0) (0.37.0)\n",
      "Requirement already satisfied: tensorboard-plugin-wit>=1.6.0 in /home/ubuntu/pyenv/lib/python3.8/site-packages (from tensorboard~=2.6->tensorflow==2.6.0) (1.8.0)\n",
      "Requirement already satisfied: requests<3,>=2.21.0 in /home/ubuntu/pyenv/lib/python3.8/site-packages (from tensorboard~=2.6->tensorflow==2.6.0) (2.26.0)\n",
      "Requirement already satisfied: tensorboard-data-server<0.7.0,>=0.6.0 in /home/ubuntu/pyenv/lib/python3.8/site-packages (from tensorboard~=2.6->tensorflow==2.6.0) (0.6.1)\n",
      "Requirement already satisfied: google-auth-oauthlib<0.5,>=0.4.1 in /home/ubuntu/pyenv/lib/python3.8/site-packages (from tensorboard~=2.6->tensorflow==2.6.0) (0.4.6)\n",
      "Requirement already satisfied: markdown>=2.6.8 in /home/ubuntu/pyenv/lib/python3.8/site-packages (from tensorboard~=2.6->tensorflow==2.6.0) (3.3.4)\n",
      "Requirement already satisfied: setuptools>=41.0.0 in /home/ubuntu/pyenv/lib/python3.8/site-packages (from tensorboard~=2.6->tensorflow==2.6.0) (44.0.0)\n",
      "Requirement already satisfied: werkzeug>=0.11.15 in /home/ubuntu/pyenv/lib/python3.8/site-packages (from tensorboard~=2.6->tensorflow==2.6.0) (2.0.1)\n",
      "Requirement already satisfied: google-auth<2,>=1.6.3 in /home/ubuntu/pyenv/lib/python3.8/site-packages (from tensorboard~=2.6->tensorflow==2.6.0) (1.35.0)\n",
      "Requirement already satisfied: idna<4,>=2.5; python_version >= \"3\" in /home/ubuntu/pyenv/lib/python3.8/site-packages (from requests<3,>=2.21.0->tensorboard~=2.6->tensorflow==2.6.0) (3.2)\n",
      "Requirement already satisfied: charset-normalizer~=2.0.0; python_version >= \"3\" in /home/ubuntu/pyenv/lib/python3.8/site-packages (from requests<3,>=2.21.0->tensorboard~=2.6->tensorflow==2.6.0) (2.0.3)\n",
      "Requirement already satisfied: urllib3<1.27,>=1.21.1 in /home/ubuntu/pyenv/lib/python3.8/site-packages (from requests<3,>=2.21.0->tensorboard~=2.6->tensorflow==2.6.0) (1.26.6)\n",
      "Requirement already satisfied: certifi>=2017.4.17 in /home/ubuntu/pyenv/lib/python3.8/site-packages (from requests<3,>=2.21.0->tensorboard~=2.6->tensorflow==2.6.0) (2021.5.30)\n",
      "Requirement already satisfied: requests-oauthlib>=0.7.0 in /home/ubuntu/pyenv/lib/python3.8/site-packages (from google-auth-oauthlib<0.5,>=0.4.1->tensorboard~=2.6->tensorflow==2.6.0) (1.3.0)\n",
      "Requirement already satisfied: rsa<5,>=3.1.4; python_version >= \"3.6\" in /home/ubuntu/pyenv/lib/python3.8/site-packages (from google-auth<2,>=1.6.3->tensorboard~=2.6->tensorflow==2.6.0) (4.7.2)\n",
      "Requirement already satisfied: pyasn1-modules>=0.2.1 in /home/ubuntu/pyenv/lib/python3.8/site-packages (from google-auth<2,>=1.6.3->tensorboard~=2.6->tensorflow==2.6.0) (0.2.8)\n",
      "Requirement already satisfied: cachetools<5.0,>=2.0.0 in /home/ubuntu/pyenv/lib/python3.8/site-packages (from google-auth<2,>=1.6.3->tensorboard~=2.6->tensorflow==2.6.0) (4.2.2)\n",
      "Requirement already satisfied: oauthlib>=3.0.0 in /home/ubuntu/pyenv/lib/python3.8/site-packages (from requests-oauthlib>=0.7.0->google-auth-oauthlib<0.5,>=0.4.1->tensorboard~=2.6->tensorflow==2.6.0) (3.1.1)\n",
      "Requirement already satisfied: pyasn1>=0.1.3 in /home/ubuntu/pyenv/lib/python3.8/site-packages (from rsa<5,>=3.1.4; python_version >= \"3.6\"->google-auth<2,>=1.6.3->tensorboard~=2.6->tensorflow==2.6.0) (0.4.8)\n",
      "Installing collected packages: numpy\n",
      "  Attempting uninstall: numpy\n",
      "    Found existing installation: numpy 1.21.2\n",
      "    Uninstalling numpy-1.21.2:\n",
      "      Successfully uninstalled numpy-1.21.2\n",
      "Successfully installed numpy-1.19.5\n"
     ]
    }
   ],
   "source": [
    "!pip install tensorflow==2.6.0"
   ]
  },
  {
   "cell_type": "code",
   "execution_count": 22,
   "id": "ad546472",
   "metadata": {},
   "outputs": [],
   "source": [
    "import numpy as np\n",
    "import pandas as pd\n",
    "from pathlib import Path\n",
    "import matplotlib.pyplot as plt\n",
    "import seaborn as sns\n",
    "sns.set(style='whitegrid', context='notebook')\n",
    "from datetime import datetime, timedelta\n",
    "\n",
    "import tensorflow as tf\n",
    "from tensorflow.keras import layers, losses, callbacks, Sequential, optimizers, metrics\n",
    "from tensorflow.keras.models import Model\n",
    "\n",
    "from sklearn.model_selection import train_test_split\n",
    "from sklearn.preprocessing import Normalizer, MinMaxScaler\n",
    "from sklearn.pipeline import Pipeline\n",
    "\n",
    "from IPython.core.interactiveshell import InteractiveShell\n",
    "InteractiveShell.ast_node_interactivity = \"all\"\n",
    "%matplotlib notebook"
   ]
  },
  {
   "cell_type": "code",
   "execution_count": 2,
   "id": "fc6b97f2",
   "metadata": {},
   "outputs": [],
   "source": [
    "import sys\n",
    "module_path = sys.path.append('/home/ubuntu/nabu/anomaly_detection/src')\n",
    "if module_path not in sys.path:\n",
    "    sys.path.append(module_path)\n",
    "    \n",
    "from data import *\n",
    "from helpers import *"
   ]
  },
  {
   "cell_type": "code",
   "execution_count": 3,
   "id": "9228a7eb",
   "metadata": {},
   "outputs": [],
   "source": [
    "RANDOM_SEED = 0\n",
    "\n",
    "set_seed(RANDOM_SEED)"
   ]
  },
  {
   "cell_type": "code",
   "execution_count": 4,
   "id": "f83bdf7d",
   "metadata": {},
   "outputs": [],
   "source": [
    "# OPTIONAL: Load the \"autoreload\" extension so that code can change\n",
    "%load_ext autoreload\n",
    "\n",
    "# OPTIONAL: always reload modules so that as you change code in src, it gets loaded\n",
    "%autoreload 2"
   ]
  },
  {
   "cell_type": "code",
   "execution_count": null,
   "id": "e01f68b8",
   "metadata": {},
   "outputs": [],
   "source": [
    "import wandb\n",
    "from wandb.keras import WandbCallback\n",
    "\n",
    "wandb.init(project='AutoEncoder', entity='anomaly-idc')"
   ]
  },
  {
   "cell_type": "markdown",
   "id": "3468a12b",
   "metadata": {},
   "source": [
    "# Data Preprocessing"
   ]
  },
  {
   "cell_type": "code",
   "execution_count": 6,
   "id": "3b46a14c",
   "metadata": {},
   "outputs": [],
   "source": [
    "DATA = Path('../data')\n",
    "TRAIN_DATASET = DATA / 'train_data_new.csv'\n",
    "TEST_DATASET = DATA / 'test_data_new.csv'\n",
    "\n",
    "df_train = pd.read_csv(TRAIN_DATASET.resolve())\n",
    "df_test = pd.read_csv(TEST_DATASET.resolve())"
   ]
  },
  {
   "cell_type": "code",
   "execution_count": 7,
   "id": "a2764053",
   "metadata": {
    "scrolled": true
   },
   "outputs": [
    {
     "data": {
      "text/html": [
       "<div>\n",
       "<style scoped>\n",
       "    .dataframe tbody tr th:only-of-type {\n",
       "        vertical-align: middle;\n",
       "    }\n",
       "\n",
       "    .dataframe tbody tr th {\n",
       "        vertical-align: top;\n",
       "    }\n",
       "\n",
       "    .dataframe thead th {\n",
       "        text-align: right;\n",
       "    }\n",
       "</style>\n",
       "<table border=\"1\" class=\"dataframe\">\n",
       "  <thead>\n",
       "    <tr style=\"text-align: right;\">\n",
       "      <th></th>\n",
       "      <th>_id</th>\n",
       "      <th>session_id</th>\n",
       "      <th>sensor_id</th>\n",
       "      <th>port</th>\n",
       "      <th>ip</th>\n",
       "      <th>ts</th>\n",
       "      <th>country</th>\n",
       "      <th>tor</th>\n",
       "      <th>packet_size</th>\n",
       "      <th>identify</th>\n",
       "      <th>...</th>\n",
       "      <th>DE</th>\n",
       "      <th>GB</th>\n",
       "      <th>IN</th>\n",
       "      <th>JP</th>\n",
       "      <th>NL</th>\n",
       "      <th>OM</th>\n",
       "      <th>RU</th>\n",
       "      <th>SG</th>\n",
       "      <th>US</th>\n",
       "      <th>time_val</th>\n",
       "    </tr>\n",
       "  </thead>\n",
       "  <tbody>\n",
       "    <tr>\n",
       "      <th>0</th>\n",
       "      <td>60e3347be9809b72a5b0d334</td>\n",
       "      <td>ec892c1a-e1cc-45ea-8040-ced7bef29d87</td>\n",
       "      <td>365</td>\n",
       "      <td>6</td>\n",
       "      <td>111122172149</td>\n",
       "      <td>2021-07-05 16:34:03.312000+00:00</td>\n",
       "      <td>2</td>\n",
       "      <td>0</td>\n",
       "      <td>52.0</td>\n",
       "      <td>0</td>\n",
       "      <td>...</td>\n",
       "      <td>0</td>\n",
       "      <td>0</td>\n",
       "      <td>0</td>\n",
       "      <td>0</td>\n",
       "      <td>0</td>\n",
       "      <td>0</td>\n",
       "      <td>0</td>\n",
       "      <td>0</td>\n",
       "      <td>0</td>\n",
       "      <td>16</td>\n",
       "    </tr>\n",
       "    <tr>\n",
       "      <th>1</th>\n",
       "      <td>60e3347be9809b72a5b0d335</td>\n",
       "      <td>45827df4-fc6c-42c3-b8a8-07ca7c39fee6</td>\n",
       "      <td>5</td>\n",
       "      <td>1</td>\n",
       "      <td>59125225176</td>\n",
       "      <td>2021-07-05 16:34:03.367000+00:00</td>\n",
       "      <td>35</td>\n",
       "      <td>0</td>\n",
       "      <td>43.0</td>\n",
       "      <td>0</td>\n",
       "      <td>...</td>\n",
       "      <td>0</td>\n",
       "      <td>0</td>\n",
       "      <td>0</td>\n",
       "      <td>0</td>\n",
       "      <td>0</td>\n",
       "      <td>0</td>\n",
       "      <td>0</td>\n",
       "      <td>0</td>\n",
       "      <td>0</td>\n",
       "      <td>16</td>\n",
       "    </tr>\n",
       "    <tr>\n",
       "      <th>2</th>\n",
       "      <td>60e3347be9809b72a5b0d336</td>\n",
       "      <td>d8b6b5bf-fead-483c-b205-b1ba082661c8</td>\n",
       "      <td>5</td>\n",
       "      <td>1</td>\n",
       "      <td>45146167035</td>\n",
       "      <td>2021-07-05 16:34:03.423000+00:00</td>\n",
       "      <td>6</td>\n",
       "      <td>0</td>\n",
       "      <td>43.0</td>\n",
       "      <td>0</td>\n",
       "      <td>...</td>\n",
       "      <td>0</td>\n",
       "      <td>0</td>\n",
       "      <td>0</td>\n",
       "      <td>0</td>\n",
       "      <td>0</td>\n",
       "      <td>0</td>\n",
       "      <td>1</td>\n",
       "      <td>0</td>\n",
       "      <td>0</td>\n",
       "      <td>16</td>\n",
       "    </tr>\n",
       "    <tr>\n",
       "      <th>3</th>\n",
       "      <td>60e3347be9809b72a5b0d337</td>\n",
       "      <td>01c99580-ca72-43a0-9b8e-27c2560543a0</td>\n",
       "      <td>5</td>\n",
       "      <td>1</td>\n",
       "      <td>185219052083</td>\n",
       "      <td>2021-07-05 16:34:03.478000+00:00</td>\n",
       "      <td>21</td>\n",
       "      <td>0</td>\n",
       "      <td>43.0</td>\n",
       "      <td>0</td>\n",
       "      <td>...</td>\n",
       "      <td>0</td>\n",
       "      <td>0</td>\n",
       "      <td>0</td>\n",
       "      <td>0</td>\n",
       "      <td>0</td>\n",
       "      <td>0</td>\n",
       "      <td>0</td>\n",
       "      <td>0</td>\n",
       "      <td>0</td>\n",
       "      <td>16</td>\n",
       "    </tr>\n",
       "    <tr>\n",
       "      <th>4</th>\n",
       "      <td>60e3347be9809b72a5b0d338</td>\n",
       "      <td>bc2b1527-6edf-48f1-9b9a-3d5129c698c7</td>\n",
       "      <td>5</td>\n",
       "      <td>1</td>\n",
       "      <td>62094072008</td>\n",
       "      <td>2021-07-05 16:34:03.536000+00:00</td>\n",
       "      <td>28</td>\n",
       "      <td>0</td>\n",
       "      <td>43.0</td>\n",
       "      <td>0</td>\n",
       "      <td>...</td>\n",
       "      <td>0</td>\n",
       "      <td>0</td>\n",
       "      <td>0</td>\n",
       "      <td>0</td>\n",
       "      <td>0</td>\n",
       "      <td>0</td>\n",
       "      <td>0</td>\n",
       "      <td>0</td>\n",
       "      <td>0</td>\n",
       "      <td>16</td>\n",
       "    </tr>\n",
       "    <tr>\n",
       "      <th>...</th>\n",
       "      <td>...</td>\n",
       "      <td>...</td>\n",
       "      <td>...</td>\n",
       "      <td>...</td>\n",
       "      <td>...</td>\n",
       "      <td>...</td>\n",
       "      <td>...</td>\n",
       "      <td>...</td>\n",
       "      <td>...</td>\n",
       "      <td>...</td>\n",
       "      <td>...</td>\n",
       "      <td>...</td>\n",
       "      <td>...</td>\n",
       "      <td>...</td>\n",
       "      <td>...</td>\n",
       "      <td>...</td>\n",
       "      <td>...</td>\n",
       "      <td>...</td>\n",
       "      <td>...</td>\n",
       "      <td>...</td>\n",
       "      <td>...</td>\n",
       "    </tr>\n",
       "    <tr>\n",
       "      <th>1365974</th>\n",
       "      <td>6104877c9a69d6a203d9c7f9</td>\n",
       "      <td>b462282e-df3c-4bf1-ac7a-528753d6ce41</td>\n",
       "      <td>54</td>\n",
       "      <td>1</td>\n",
       "      <td>218094034054</td>\n",
       "      <td>2021-07-30 23:13:00.011000+00:00</td>\n",
       "      <td>2</td>\n",
       "      <td>0</td>\n",
       "      <td>46.0</td>\n",
       "      <td>0</td>\n",
       "      <td>...</td>\n",
       "      <td>0</td>\n",
       "      <td>0</td>\n",
       "      <td>0</td>\n",
       "      <td>0</td>\n",
       "      <td>0</td>\n",
       "      <td>0</td>\n",
       "      <td>0</td>\n",
       "      <td>0</td>\n",
       "      <td>0</td>\n",
       "      <td>119</td>\n",
       "    </tr>\n",
       "    <tr>\n",
       "      <th>1365975</th>\n",
       "      <td>6104877d9a69d6a203d9c7fa</td>\n",
       "      <td>06533f11-f760-40be-b861-393e84ea44d9</td>\n",
       "      <td>253</td>\n",
       "      <td>3</td>\n",
       "      <td>71006199023</td>\n",
       "      <td>2021-07-30 23:13:01.040000+00:00</td>\n",
       "      <td>1</td>\n",
       "      <td>0</td>\n",
       "      <td>252.0</td>\n",
       "      <td>0</td>\n",
       "      <td>...</td>\n",
       "      <td>0</td>\n",
       "      <td>0</td>\n",
       "      <td>0</td>\n",
       "      <td>0</td>\n",
       "      <td>0</td>\n",
       "      <td>0</td>\n",
       "      <td>0</td>\n",
       "      <td>0</td>\n",
       "      <td>1</td>\n",
       "      <td>119</td>\n",
       "    </tr>\n",
       "    <tr>\n",
       "      <th>1365976</th>\n",
       "      <td>6104877e9a69d6a203d9c7fb</td>\n",
       "      <td>aa4d5d02-6c48-4324-b346-975953f73e15</td>\n",
       "      <td>9</td>\n",
       "      <td>1</td>\n",
       "      <td>175101006210</td>\n",
       "      <td>2021-07-30 23:13:02.077000+00:00</td>\n",
       "      <td>3</td>\n",
       "      <td>0</td>\n",
       "      <td>43.0</td>\n",
       "      <td>0</td>\n",
       "      <td>...</td>\n",
       "      <td>0</td>\n",
       "      <td>0</td>\n",
       "      <td>1</td>\n",
       "      <td>0</td>\n",
       "      <td>0</td>\n",
       "      <td>0</td>\n",
       "      <td>0</td>\n",
       "      <td>0</td>\n",
       "      <td>0</td>\n",
       "      <td>119</td>\n",
       "    </tr>\n",
       "    <tr>\n",
       "      <th>1365977</th>\n",
       "      <td>610487819a69d6a203d9c7fc</td>\n",
       "      <td>f7913416-2c06-49f8-a9f6-2269bf26f9c1</td>\n",
       "      <td>6</td>\n",
       "      <td>1</td>\n",
       "      <td>218094034054</td>\n",
       "      <td>2021-07-30 23:13:05.227000+00:00</td>\n",
       "      <td>2</td>\n",
       "      <td>0</td>\n",
       "      <td>42.0</td>\n",
       "      <td>0</td>\n",
       "      <td>...</td>\n",
       "      <td>0</td>\n",
       "      <td>0</td>\n",
       "      <td>0</td>\n",
       "      <td>0</td>\n",
       "      <td>0</td>\n",
       "      <td>0</td>\n",
       "      <td>0</td>\n",
       "      <td>0</td>\n",
       "      <td>0</td>\n",
       "      <td>119</td>\n",
       "    </tr>\n",
       "    <tr>\n",
       "      <th>1365978</th>\n",
       "      <td>610487829a69d6a203d9c7fd</td>\n",
       "      <td>1f45041f-9f70-4567-b206-179d9f2ab7fe</td>\n",
       "      <td>1</td>\n",
       "      <td>1</td>\n",
       "      <td>218094034054</td>\n",
       "      <td>2021-07-30 23:13:06.252000+00:00</td>\n",
       "      <td>2</td>\n",
       "      <td>0</td>\n",
       "      <td>46.0</td>\n",
       "      <td>0</td>\n",
       "      <td>...</td>\n",
       "      <td>0</td>\n",
       "      <td>0</td>\n",
       "      <td>0</td>\n",
       "      <td>0</td>\n",
       "      <td>0</td>\n",
       "      <td>0</td>\n",
       "      <td>0</td>\n",
       "      <td>0</td>\n",
       "      <td>0</td>\n",
       "      <td>119</td>\n",
       "    </tr>\n",
       "  </tbody>\n",
       "</table>\n",
       "<p>1365979 rows × 76 columns</p>\n",
       "</div>"
      ],
      "text/plain": [
       "                              _id                            session_id  \\\n",
       "0        60e3347be9809b72a5b0d334  ec892c1a-e1cc-45ea-8040-ced7bef29d87   \n",
       "1        60e3347be9809b72a5b0d335  45827df4-fc6c-42c3-b8a8-07ca7c39fee6   \n",
       "2        60e3347be9809b72a5b0d336  d8b6b5bf-fead-483c-b205-b1ba082661c8   \n",
       "3        60e3347be9809b72a5b0d337  01c99580-ca72-43a0-9b8e-27c2560543a0   \n",
       "4        60e3347be9809b72a5b0d338  bc2b1527-6edf-48f1-9b9a-3d5129c698c7   \n",
       "...                           ...                                   ...   \n",
       "1365974  6104877c9a69d6a203d9c7f9  b462282e-df3c-4bf1-ac7a-528753d6ce41   \n",
       "1365975  6104877d9a69d6a203d9c7fa  06533f11-f760-40be-b861-393e84ea44d9   \n",
       "1365976  6104877e9a69d6a203d9c7fb  aa4d5d02-6c48-4324-b346-975953f73e15   \n",
       "1365977  610487819a69d6a203d9c7fc  f7913416-2c06-49f8-a9f6-2269bf26f9c1   \n",
       "1365978  610487829a69d6a203d9c7fd  1f45041f-9f70-4567-b206-179d9f2ab7fe   \n",
       "\n",
       "         sensor_id  port            ip                                ts  \\\n",
       "0              365     6  111122172149  2021-07-05 16:34:03.312000+00:00   \n",
       "1                5     1   59125225176  2021-07-05 16:34:03.367000+00:00   \n",
       "2                5     1   45146167035  2021-07-05 16:34:03.423000+00:00   \n",
       "3                5     1  185219052083  2021-07-05 16:34:03.478000+00:00   \n",
       "4                5     1   62094072008  2021-07-05 16:34:03.536000+00:00   \n",
       "...            ...   ...           ...                               ...   \n",
       "1365974         54     1  218094034054  2021-07-30 23:13:00.011000+00:00   \n",
       "1365975        253     3   71006199023  2021-07-30 23:13:01.040000+00:00   \n",
       "1365976          9     1  175101006210  2021-07-30 23:13:02.077000+00:00   \n",
       "1365977          6     1  218094034054  2021-07-30 23:13:05.227000+00:00   \n",
       "1365978          1     1  218094034054  2021-07-30 23:13:06.252000+00:00   \n",
       "\n",
       "         country  tor  packet_size  identify  ...  DE  GB  IN  JP  NL  OM  RU  \\\n",
       "0              2    0         52.0         0  ...   0   0   0   0   0   0   0   \n",
       "1             35    0         43.0         0  ...   0   0   0   0   0   0   0   \n",
       "2              6    0         43.0         0  ...   0   0   0   0   0   0   1   \n",
       "3             21    0         43.0         0  ...   0   0   0   0   0   0   0   \n",
       "4             28    0         43.0         0  ...   0   0   0   0   0   0   0   \n",
       "...          ...  ...          ...       ...  ...  ..  ..  ..  ..  ..  ..  ..   \n",
       "1365974        2    0         46.0         0  ...   0   0   0   0   0   0   0   \n",
       "1365975        1    0        252.0         0  ...   0   0   0   0   0   0   0   \n",
       "1365976        3    0         43.0         0  ...   0   0   1   0   0   0   0   \n",
       "1365977        2    0         42.0         0  ...   0   0   0   0   0   0   0   \n",
       "1365978        2    0         46.0         0  ...   0   0   0   0   0   0   0   \n",
       "\n",
       "         SG  US  time_val  \n",
       "0         0   0        16  \n",
       "1         0   0        16  \n",
       "2         0   0        16  \n",
       "3         0   0        16  \n",
       "4         0   0        16  \n",
       "...      ..  ..       ...  \n",
       "1365974   0   0       119  \n",
       "1365975   0   1       119  \n",
       "1365976   0   0       119  \n",
       "1365977   0   0       119  \n",
       "1365978   0   0       119  \n",
       "\n",
       "[1365979 rows x 76 columns]"
      ]
     },
     "execution_count": 7,
     "metadata": {},
     "output_type": "execute_result"
    }
   ],
   "source": [
    "df_train"
   ]
  },
  {
   "cell_type": "code",
   "execution_count": 8,
   "id": "40a1fb67",
   "metadata": {},
   "outputs": [
    {
     "data": {
      "text/html": [
       "<div>\n",
       "<style scoped>\n",
       "    .dataframe tbody tr th:only-of-type {\n",
       "        vertical-align: middle;\n",
       "    }\n",
       "\n",
       "    .dataframe tbody tr th {\n",
       "        vertical-align: top;\n",
       "    }\n",
       "\n",
       "    .dataframe thead th {\n",
       "        text-align: right;\n",
       "    }\n",
       "</style>\n",
       "<table border=\"1\" class=\"dataframe\">\n",
       "  <thead>\n",
       "    <tr style=\"text-align: right;\">\n",
       "      <th></th>\n",
       "      <th>_id</th>\n",
       "      <th>session_id</th>\n",
       "      <th>sensor_id</th>\n",
       "      <th>port</th>\n",
       "      <th>ip</th>\n",
       "      <th>ts</th>\n",
       "      <th>country</th>\n",
       "      <th>tor</th>\n",
       "      <th>packet_size</th>\n",
       "      <th>identify</th>\n",
       "      <th>...</th>\n",
       "      <th>DE</th>\n",
       "      <th>GB</th>\n",
       "      <th>IN</th>\n",
       "      <th>JP</th>\n",
       "      <th>NL</th>\n",
       "      <th>OM</th>\n",
       "      <th>RU</th>\n",
       "      <th>SG</th>\n",
       "      <th>US</th>\n",
       "      <th>time_val</th>\n",
       "    </tr>\n",
       "  </thead>\n",
       "  <tbody>\n",
       "    <tr>\n",
       "      <th>0</th>\n",
       "      <td>6104928c9a69d6a203d9cbd1</td>\n",
       "      <td>f418b705-f621-47d1-a26f-552eefde2bd7</td>\n",
       "      <td>1</td>\n",
       "      <td>1</td>\n",
       "      <td>150095088177</td>\n",
       "      <td>2021-07-31 00:00:12.677000+00:00</td>\n",
       "      <td>7</td>\n",
       "      <td>0</td>\n",
       "      <td>43.0</td>\n",
       "      <td>0</td>\n",
       "      <td>...</td>\n",
       "      <td>0</td>\n",
       "      <td>0</td>\n",
       "      <td>0</td>\n",
       "      <td>0</td>\n",
       "      <td>0</td>\n",
       "      <td>0</td>\n",
       "      <td>0</td>\n",
       "      <td>1</td>\n",
       "      <td>0</td>\n",
       "      <td>120</td>\n",
       "    </tr>\n",
       "    <tr>\n",
       "      <th>1</th>\n",
       "      <td>6104928d9a69d6a203d9cbd2</td>\n",
       "      <td>27a4ae9c-99d6-467c-b2a4-a1c6fa4dfc6f</td>\n",
       "      <td>159</td>\n",
       "      <td>4</td>\n",
       "      <td>162142125038</td>\n",
       "      <td>2021-07-31 00:00:13.714000+00:00</td>\n",
       "      <td>1</td>\n",
       "      <td>0</td>\n",
       "      <td>128.0</td>\n",
       "      <td>0</td>\n",
       "      <td>...</td>\n",
       "      <td>0</td>\n",
       "      <td>0</td>\n",
       "      <td>0</td>\n",
       "      <td>0</td>\n",
       "      <td>0</td>\n",
       "      <td>0</td>\n",
       "      <td>0</td>\n",
       "      <td>0</td>\n",
       "      <td>1</td>\n",
       "      <td>120</td>\n",
       "    </tr>\n",
       "    <tr>\n",
       "      <th>2</th>\n",
       "      <td>6104928f9a69d6a203d9cbd3</td>\n",
       "      <td>21936f12-f37a-416c-bb53-fe342c007e03</td>\n",
       "      <td>2</td>\n",
       "      <td>1</td>\n",
       "      <td>20084049161</td>\n",
       "      <td>2021-07-31 00:00:15.799000+00:00</td>\n",
       "      <td>1</td>\n",
       "      <td>0</td>\n",
       "      <td>43.0</td>\n",
       "      <td>0</td>\n",
       "      <td>...</td>\n",
       "      <td>0</td>\n",
       "      <td>0</td>\n",
       "      <td>0</td>\n",
       "      <td>0</td>\n",
       "      <td>0</td>\n",
       "      <td>0</td>\n",
       "      <td>0</td>\n",
       "      <td>0</td>\n",
       "      <td>1</td>\n",
       "      <td>120</td>\n",
       "    </tr>\n",
       "    <tr>\n",
       "      <th>3</th>\n",
       "      <td>610492909a69d6a203d9cbd4</td>\n",
       "      <td>8c1fa901-fac4-4bde-97cc-8e1a5074e2bd</td>\n",
       "      <td>159</td>\n",
       "      <td>4</td>\n",
       "      <td>162142125038</td>\n",
       "      <td>2021-07-31 00:00:16.821000+00:00</td>\n",
       "      <td>1</td>\n",
       "      <td>0</td>\n",
       "      <td>39.0</td>\n",
       "      <td>0</td>\n",
       "      <td>...</td>\n",
       "      <td>0</td>\n",
       "      <td>0</td>\n",
       "      <td>0</td>\n",
       "      <td>0</td>\n",
       "      <td>0</td>\n",
       "      <td>0</td>\n",
       "      <td>0</td>\n",
       "      <td>0</td>\n",
       "      <td>1</td>\n",
       "      <td>120</td>\n",
       "    </tr>\n",
       "    <tr>\n",
       "      <th>4</th>\n",
       "      <td>610492909a69d6a203d9cbd5</td>\n",
       "      <td>214385fd-f32e-48da-9008-f38f378c8d70</td>\n",
       "      <td>85</td>\n",
       "      <td>1</td>\n",
       "      <td>14128032062</td>\n",
       "      <td>2021-07-31 00:00:16.835000+00:00</td>\n",
       "      <td>7</td>\n",
       "      <td>0</td>\n",
       "      <td>43.0</td>\n",
       "      <td>0</td>\n",
       "      <td>...</td>\n",
       "      <td>0</td>\n",
       "      <td>0</td>\n",
       "      <td>0</td>\n",
       "      <td>0</td>\n",
       "      <td>0</td>\n",
       "      <td>0</td>\n",
       "      <td>0</td>\n",
       "      <td>1</td>\n",
       "      <td>0</td>\n",
       "      <td>120</td>\n",
       "    </tr>\n",
       "    <tr>\n",
       "      <th>...</th>\n",
       "      <td>...</td>\n",
       "      <td>...</td>\n",
       "      <td>...</td>\n",
       "      <td>...</td>\n",
       "      <td>...</td>\n",
       "      <td>...</td>\n",
       "      <td>...</td>\n",
       "      <td>...</td>\n",
       "      <td>...</td>\n",
       "      <td>...</td>\n",
       "      <td>...</td>\n",
       "      <td>...</td>\n",
       "      <td>...</td>\n",
       "      <td>...</td>\n",
       "      <td>...</td>\n",
       "      <td>...</td>\n",
       "      <td>...</td>\n",
       "      <td>...</td>\n",
       "      <td>...</td>\n",
       "      <td>...</td>\n",
       "      <td>...</td>\n",
       "    </tr>\n",
       "    <tr>\n",
       "      <th>282920</th>\n",
       "      <td>610804a2f7368742c471a445</td>\n",
       "      <td>3a551a24-3f5a-4186-8663-aecaa760e941</td>\n",
       "      <td>2</td>\n",
       "      <td>1</td>\n",
       "      <td>143198184062</td>\n",
       "      <td>2021-08-02 14:43:46.687000+00:00</td>\n",
       "      <td>1</td>\n",
       "      <td>0</td>\n",
       "      <td>43.0</td>\n",
       "      <td>0</td>\n",
       "      <td>...</td>\n",
       "      <td>0</td>\n",
       "      <td>0</td>\n",
       "      <td>0</td>\n",
       "      <td>0</td>\n",
       "      <td>0</td>\n",
       "      <td>0</td>\n",
       "      <td>0</td>\n",
       "      <td>0</td>\n",
       "      <td>1</td>\n",
       "      <td>14</td>\n",
       "    </tr>\n",
       "    <tr>\n",
       "      <th>282921</th>\n",
       "      <td>610804a3f7368742c471a446</td>\n",
       "      <td>cac661ef-7bfd-4b1f-af38-0415bea9002c</td>\n",
       "      <td>4</td>\n",
       "      <td>1</td>\n",
       "      <td>143198184062</td>\n",
       "      <td>2021-08-02 14:43:47.742000+00:00</td>\n",
       "      <td>1</td>\n",
       "      <td>0</td>\n",
       "      <td>43.0</td>\n",
       "      <td>0</td>\n",
       "      <td>...</td>\n",
       "      <td>0</td>\n",
       "      <td>0</td>\n",
       "      <td>0</td>\n",
       "      <td>0</td>\n",
       "      <td>0</td>\n",
       "      <td>0</td>\n",
       "      <td>0</td>\n",
       "      <td>0</td>\n",
       "      <td>1</td>\n",
       "      <td>14</td>\n",
       "    </tr>\n",
       "    <tr>\n",
       "      <th>282922</th>\n",
       "      <td>610804a3f7368742c471a447</td>\n",
       "      <td>4f1988be-805f-4c1b-a118-2e547690ec38</td>\n",
       "      <td>9</td>\n",
       "      <td>1</td>\n",
       "      <td>143198184062</td>\n",
       "      <td>2021-08-02 14:43:47.789000+00:00</td>\n",
       "      <td>1</td>\n",
       "      <td>0</td>\n",
       "      <td>43.0</td>\n",
       "      <td>0</td>\n",
       "      <td>...</td>\n",
       "      <td>0</td>\n",
       "      <td>0</td>\n",
       "      <td>0</td>\n",
       "      <td>0</td>\n",
       "      <td>0</td>\n",
       "      <td>0</td>\n",
       "      <td>0</td>\n",
       "      <td>0</td>\n",
       "      <td>1</td>\n",
       "      <td>14</td>\n",
       "    </tr>\n",
       "    <tr>\n",
       "      <th>282923</th>\n",
       "      <td>610804a3f7368742c471a448</td>\n",
       "      <td>3f11ab2e-796f-4fe2-9141-0f3516643a52</td>\n",
       "      <td>3</td>\n",
       "      <td>1</td>\n",
       "      <td>143198184062</td>\n",
       "      <td>2021-08-02 14:43:47.855000+00:00</td>\n",
       "      <td>1</td>\n",
       "      <td>0</td>\n",
       "      <td>43.0</td>\n",
       "      <td>0</td>\n",
       "      <td>...</td>\n",
       "      <td>0</td>\n",
       "      <td>0</td>\n",
       "      <td>0</td>\n",
       "      <td>0</td>\n",
       "      <td>0</td>\n",
       "      <td>0</td>\n",
       "      <td>0</td>\n",
       "      <td>0</td>\n",
       "      <td>1</td>\n",
       "      <td>14</td>\n",
       "    </tr>\n",
       "    <tr>\n",
       "      <th>282924</th>\n",
       "      <td>610804a4f7368742c471a449</td>\n",
       "      <td>211284e2-9db3-4d0c-a2a1-ef6cc9d7ff60</td>\n",
       "      <td>1</td>\n",
       "      <td>1</td>\n",
       "      <td>143198184062</td>\n",
       "      <td>2021-08-02 14:43:48.935000+00:00</td>\n",
       "      <td>1</td>\n",
       "      <td>0</td>\n",
       "      <td>43.0</td>\n",
       "      <td>0</td>\n",
       "      <td>...</td>\n",
       "      <td>0</td>\n",
       "      <td>0</td>\n",
       "      <td>0</td>\n",
       "      <td>0</td>\n",
       "      <td>0</td>\n",
       "      <td>0</td>\n",
       "      <td>0</td>\n",
       "      <td>0</td>\n",
       "      <td>1</td>\n",
       "      <td>14</td>\n",
       "    </tr>\n",
       "  </tbody>\n",
       "</table>\n",
       "<p>282925 rows × 76 columns</p>\n",
       "</div>"
      ],
      "text/plain": [
       "                             _id                            session_id  \\\n",
       "0       6104928c9a69d6a203d9cbd1  f418b705-f621-47d1-a26f-552eefde2bd7   \n",
       "1       6104928d9a69d6a203d9cbd2  27a4ae9c-99d6-467c-b2a4-a1c6fa4dfc6f   \n",
       "2       6104928f9a69d6a203d9cbd3  21936f12-f37a-416c-bb53-fe342c007e03   \n",
       "3       610492909a69d6a203d9cbd4  8c1fa901-fac4-4bde-97cc-8e1a5074e2bd   \n",
       "4       610492909a69d6a203d9cbd5  214385fd-f32e-48da-9008-f38f378c8d70   \n",
       "...                          ...                                   ...   \n",
       "282920  610804a2f7368742c471a445  3a551a24-3f5a-4186-8663-aecaa760e941   \n",
       "282921  610804a3f7368742c471a446  cac661ef-7bfd-4b1f-af38-0415bea9002c   \n",
       "282922  610804a3f7368742c471a447  4f1988be-805f-4c1b-a118-2e547690ec38   \n",
       "282923  610804a3f7368742c471a448  3f11ab2e-796f-4fe2-9141-0f3516643a52   \n",
       "282924  610804a4f7368742c471a449  211284e2-9db3-4d0c-a2a1-ef6cc9d7ff60   \n",
       "\n",
       "        sensor_id  port            ip                                ts  \\\n",
       "0               1     1  150095088177  2021-07-31 00:00:12.677000+00:00   \n",
       "1             159     4  162142125038  2021-07-31 00:00:13.714000+00:00   \n",
       "2               2     1   20084049161  2021-07-31 00:00:15.799000+00:00   \n",
       "3             159     4  162142125038  2021-07-31 00:00:16.821000+00:00   \n",
       "4              85     1   14128032062  2021-07-31 00:00:16.835000+00:00   \n",
       "...           ...   ...           ...                               ...   \n",
       "282920          2     1  143198184062  2021-08-02 14:43:46.687000+00:00   \n",
       "282921          4     1  143198184062  2021-08-02 14:43:47.742000+00:00   \n",
       "282922          9     1  143198184062  2021-08-02 14:43:47.789000+00:00   \n",
       "282923          3     1  143198184062  2021-08-02 14:43:47.855000+00:00   \n",
       "282924          1     1  143198184062  2021-08-02 14:43:48.935000+00:00   \n",
       "\n",
       "        country  tor  packet_size  identify  ...  DE  GB  IN  JP  NL  OM  RU  \\\n",
       "0             7    0         43.0         0  ...   0   0   0   0   0   0   0   \n",
       "1             1    0        128.0         0  ...   0   0   0   0   0   0   0   \n",
       "2             1    0         43.0         0  ...   0   0   0   0   0   0   0   \n",
       "3             1    0         39.0         0  ...   0   0   0   0   0   0   0   \n",
       "4             7    0         43.0         0  ...   0   0   0   0   0   0   0   \n",
       "...         ...  ...          ...       ...  ...  ..  ..  ..  ..  ..  ..  ..   \n",
       "282920        1    0         43.0         0  ...   0   0   0   0   0   0   0   \n",
       "282921        1    0         43.0         0  ...   0   0   0   0   0   0   0   \n",
       "282922        1    0         43.0         0  ...   0   0   0   0   0   0   0   \n",
       "282923        1    0         43.0         0  ...   0   0   0   0   0   0   0   \n",
       "282924        1    0         43.0         0  ...   0   0   0   0   0   0   0   \n",
       "\n",
       "        SG  US  time_val  \n",
       "0        1   0       120  \n",
       "1        0   1       120  \n",
       "2        0   1       120  \n",
       "3        0   1       120  \n",
       "4        1   0       120  \n",
       "...     ..  ..       ...  \n",
       "282920   0   1        14  \n",
       "282921   0   1        14  \n",
       "282922   0   1        14  \n",
       "282923   0   1        14  \n",
       "282924   0   1        14  \n",
       "\n",
       "[282925 rows x 76 columns]"
      ]
     },
     "execution_count": 8,
     "metadata": {},
     "output_type": "execute_result"
    }
   ],
   "source": [
    "df_test"
   ]
  },
  {
   "cell_type": "code",
   "execution_count": 9,
   "id": "6c3e28e7",
   "metadata": {},
   "outputs": [],
   "source": [
    "# dropping redundant columns\n",
    "redundant_columns = ['_id', 'port', 'ip', 'ts']\n",
    "df_train_selected = df_train.drop(columns=redundant_columns, axis=1)\n",
    "df_test_selected = df_test.drop(columns=redundant_columns, axis=1)"
   ]
  },
  {
   "cell_type": "code",
   "execution_count": 10,
   "id": "2f56896d",
   "metadata": {},
   "outputs": [],
   "source": [
    "SELECTED_FEATURES = [\n",
    "    'packet_size',\n",
    "    'country',\n",
    "    'ip',\n",
    "    'sensor_id', \n",
    "    'time_val', \n",
    "    'tor', \n",
    "    'agg_session_id_row_count',\n",
    "    'agg_session_id_packet_size_sum',\n",
    "    'agg_session_id_packet_size_max'\n",
    "]\n",
    "label = ['identify']"
   ]
  },
  {
   "cell_type": "markdown",
   "id": "724f54b1",
   "metadata": {},
   "source": [
    "## Undersampling"
   ]
  },
  {
   "cell_type": "code",
   "execution_count": 191,
   "id": "cc237127",
   "metadata": {},
   "outputs": [],
   "source": [
    "RATIO_TO_MALICIOUS = 15\n",
    "\n",
    "# undersample clean transactions\n",
    "clean_undersampled = clean.sample(\n",
    "    int(len(mal) * RATIO_TO_MALICIOUS),\n",
    "    random_state=RANDOM_SEED\n",
    ")"
   ]
  },
  {
   "cell_type": "code",
   "execution_count": 15,
   "id": "0838d353",
   "metadata": {},
   "outputs": [],
   "source": [
    "# concatenate clean undersampled with malicious packets\n",
    "visualisation_initial = pd.concat([mal, clean_undersampled])\n",
    "column_names = list(visualisation_initial.drop(columns=['identify'], axis=1).columns)\n",
    "\n",
    "# isolate features from labels \n",
    "features, labels = visualisation_initial.drop(columns=['identify'], axis=1).values, \\\n",
    "                   visualisation_initial.identify.values"
   ]
  },
  {
   "cell_type": "code",
   "execution_count": 54,
   "id": "8577e206",
   "metadata": {},
   "outputs": [
    {
     "name": "stdout",
     "output_type": "stream",
     "text": [
      "\n",
      "    The non-malicious dataset has been undersampled from 1,647,829 to 16,125.\n",
      "    This represents a ratio of 15:1 to malicious.\n"
     ]
    }
   ],
   "source": [
    "print(\n",
    "    f\"\"\"\n",
    "    The non-malicious dataset has been undersampled from {len(clean):,} to {len(clean_undersampled):,}.\n",
    "    This represents a ratio of {RATIO_TO_MALICIOUS}:1 to malicious.\"\"\")"
   ]
  },
  {
   "cell_type": "code",
   "execution_count": 56,
   "id": "5b9d3e9b",
   "metadata": {},
   "outputs": [],
   "source": [
    "from sklearn.manifold import TSNE\n",
    "\n",
    "# t-SNE dimensionality reduction\n",
    "features_embedded = TSNE(n_components=2, random_state=RANDOM_SEED).fit_transform(features)"
   ]
  },
  {
   "cell_type": "code",
   "execution_count": 62,
   "id": "3aec0333",
   "metadata": {},
   "outputs": [],
   "source": [
    "results = pd.DataFrame()\n",
    "results['label'] = labels\n",
    "results['tsne-2d-one'] = features_embedded[:,0]\n",
    "results['tsne-2d-two'] = features_embedded[:,1]"
   ]
  },
  {
   "cell_type": "code",
   "execution_count": 76,
   "id": "fabd2c4c",
   "metadata": {},
   "outputs": [
    {
     "data": {
      "text/plain": [
       "<Figure size 1152x720 with 0 Axes>"
      ]
     },
     "execution_count": 76,
     "metadata": {},
     "output_type": "execute_result"
    },
    {
     "data": {
      "text/plain": [
       "<AxesSubplot:xlabel='tsne-2d-one', ylabel='tsne-2d-two'>"
      ]
     },
     "execution_count": 76,
     "metadata": {},
     "output_type": "execute_result"
    },
    {
     "data": {
      "image/png": "[encoded data removed]",
      "text/plain": [
       "<Figure size 1152x720 with 1 Axes>"
      ]
     },
     "metadata": {
      "needs_background": "light"
     },
     "output_type": "display_data"
    }
   ],
   "source": [
    "%matplotlib inline\n",
    "plt.figure(figsize=(16,10))\n",
    "sns.scatterplot(\n",
    "    x=\"tsne-2d-one\", y=\"tsne-2d-two\",\n",
    "    hue=\"label\",\n",
    "    data=results,\n",
    "    legend=\"full\",\n",
    "    alpha=0.3\n",
    ")\n",
    "plt.show()"
   ]
  },
  {
   "cell_type": "markdown",
   "id": "0b19ec9c",
   "metadata": {},
   "source": [
    "## Split (Train/Validation/Test)"
   ]
  },
  {
   "cell_type": "code",
   "execution_count": 77,
   "id": "f74485f2",
   "metadata": {},
   "outputs": [
    {
     "name": "stdout",
     "output_type": "stream",
     "text": [
      "Shape of the datasets (rows, cols):\n",
      "    clean     = (1647829, 55)\n",
      "    malicious = (1075, 55)\n"
     ]
    }
   ],
   "source": [
    "print(f\"\"\"Shape of the datasets (rows, cols):\n",
    "    clean     = {clean.shape}\n",
    "    malicious = {mal.shape}\"\"\")"
   ]
  },
  {
   "cell_type": "code",
   "execution_count": 16,
   "id": "59eff313",
   "metadata": {},
   "outputs": [
    {
     "data": {
      "text/plain": [
       "Index(['session_id', 'sensor_id', 'country', 'packet_size', 'identify',\n",
       "       'accum_packet_size', 'accum_count_by_ip', 'ip_bit_0', 'ip_bit_1',\n",
       "       'ip_bit_2', 'ip_bit_3', 'ip_bit_4', 'ip_bit_5', 'ip_bit_6', 'ip_bit_7',\n",
       "       'ip_bit_8', 'ip_bit_9', 'ip_bit_10', 'ip_bit_11', 'ip_bit_12',\n",
       "       'ip_bit_13', 'ip_bit_14', 'ip_bit_15', 'ip_bit_16', 'ip_bit_17',\n",
       "       'ip_bit_18', 'ip_bit_19', 'ip_bit_20', 'ip_bit_21', 'ip_bit_22',\n",
       "       'ip_bit_23', 'ip_bit_24', 'ip_bit_25', 'ip_bit_26', 'ip_bit_27',\n",
       "       'ip_bit_28', 'ip_bit_29', 'ip_bit_30', 'ip_bit_31', 'port_bit_0',\n",
       "       'port_bit_1', 'port_bit_2', 'port_bit_3', 'port_bit_4', 'port_bit_5',\n",
       "       'port_bit_6', 'port_bit_7', 'port_bit_8', 'port_bit_9', 'port_bit_10',\n",
       "       'port_bit_11', 'port_bit_12', 'port_bit_13', 'port_bit_14',\n",
       "       'port_bit_15'],\n",
       "      dtype='object')"
      ]
     },
     "execution_count": 16,
     "metadata": {},
     "output_type": "execute_result"
    }
   ],
   "source": [
    "clean.columns"
   ]
  },
  {
   "cell_type": "code",
   "execution_count": 16,
   "id": "42debb73",
   "metadata": {},
   "outputs": [],
   "source": [
    "TRAINING_SAMPLE = 1_600_000\n",
    "\n",
    "# shuffle our training set\n",
    "clean_shuffle = clean.sample(frac=1).reset_index(drop=True)\n",
    "\n",
    "# training set: exlusively non-fraud transactions\n",
    "X_train = clean_shuffle.iloc[:TRAINING_SAMPLE].drop('identify', axis=1)\n",
    "\n",
    "# testing  set: the remaining non-fraud + all the fraud \n",
    "X_test = clean_shuffle.iloc[TRAINING_SAMPLE:].append(mal).sample(frac=1)"
   ]
  },
  {
   "cell_type": "code",
   "execution_count": 17,
   "id": "d09c515c",
   "metadata": {},
   "outputs": [
    {
     "name": "stdout",
     "output_type": "stream",
     "text": [
      "Testing set: \n",
      "0    47829\n",
      "1     1075\n",
      "Name: identify, dtype: int64\n"
     ]
    }
   ],
   "source": [
    "print(f\"\"\"Testing set: \n",
    "{X_test.identify.value_counts()}\"\"\")"
   ]
  },
  {
   "cell_type": "code",
   "execution_count": 18,
   "id": "8593ce06",
   "metadata": {},
   "outputs": [],
   "source": [
    "VALIDATE_SIZE = 0.2\n",
    "\n",
    "X_train, X_validate = train_test_split(X_train, \n",
    "                                       test_size=VALIDATE_SIZE, \n",
    "                                       random_state=RANDOM_SEED)\n",
    "\n",
    "X_test, y_test = X_test.drop('identify', axis=1).values, X_test.identify.values"
   ]
  },
  {
   "cell_type": "markdown",
   "id": "0315e3b4",
   "metadata": {},
   "source": [
    "## Normalize and Scale"
   ]
  },
  {
   "cell_type": "code",
   "execution_count": 11,
   "id": "533bd165",
   "metadata": {},
   "outputs": [],
   "source": [
    "X_train_tmp = df_train[df_train.identify==0][SELECTED_FEATURES]\n",
    "y_train_tmp = df_train[label]"
   ]
  },
  {
   "cell_type": "code",
   "execution_count": 12,
   "id": "7e94b6c8",
   "metadata": {},
   "outputs": [],
   "source": [
    "TRAINING_SAMPLE = 1_000_000\n",
    "\n",
    "X_train = X_train_tmp.iloc[:TRAINING_SAMPLE]\n",
    "y_train = y_train_tmp.iloc[:TRAINING_SAMPLE]\n",
    "\n",
    "X_val = X_train_tmp.iloc[TRAINING_SAMPLE:]\n",
    "y_val = y_train_tmp.iloc[TRAINING_SAMPLE:]"
   ]
  },
  {
   "cell_type": "code",
   "execution_count": 13,
   "id": "d9341608",
   "metadata": {},
   "outputs": [],
   "source": [
    "X_test = df_test[SELECTED_FEATURES]\n",
    "y_test = df_test[label]"
   ]
  },
  {
   "cell_type": "code",
   "execution_count": 14,
   "id": "36895d88",
   "metadata": {},
   "outputs": [],
   "source": [
    "pipeline = Pipeline([('normalizer', Normalizer()),\n",
    "                     ('scaler', MinMaxScaler())])"
   ]
  },
  {
   "cell_type": "code",
   "execution_count": 15,
   "id": "98595cd9",
   "metadata": {},
   "outputs": [
    {
     "data": {
      "text/plain": [
       "Pipeline(steps=[('normalizer', Normalizer()), ('scaler', MinMaxScaler())])"
      ]
     },
     "execution_count": 15,
     "metadata": {},
     "output_type": "execute_result"
    }
   ],
   "source": [
    "pipeline.fit(X_train)"
   ]
  },
  {
   "cell_type": "code",
   "execution_count": 16,
   "id": "f86321cd",
   "metadata": {},
   "outputs": [],
   "source": [
    "X_train_transformed = pipeline.transform(X_train)\n",
    "X_validate_transformed = pipeline.transform(X_val)"
   ]
  },
  {
   "cell_type": "code",
   "execution_count": 17,
   "id": "b9921213",
   "metadata": {},
   "outputs": [
    {
     "data": {
      "text/plain": [
       "(1000000, 9)"
      ]
     },
     "execution_count": 17,
     "metadata": {},
     "output_type": "execute_result"
    }
   ],
   "source": [
    "X_train_transformed.shape"
   ]
  },
  {
   "cell_type": "markdown",
   "id": "b1d02ba2",
   "metadata": {},
   "source": [
    "# Model"
   ]
  },
  {
   "cell_type": "code",
   "execution_count": 18,
   "id": "f2a4e829",
   "metadata": {},
   "outputs": [],
   "source": [
    "input_dim = X_train_transformed.shape[1]\n",
    "BATCH_SIZE = 256"
   ]
  },
  {
   "cell_type": "code",
   "execution_count": 39,
   "id": "648cdce9",
   "metadata": {},
   "outputs": [],
   "source": [
    "class AutoEncoders(Model):\n",
    "    def __init__(self, input_dim,  architecture: list, name=\"autoencoder\", **kwargs):\n",
    "        super(AutoEncoders, self).__init__(name=name, **kwargs)\n",
    "        self.input_dim = input_dim\n",
    "        self.encoder = [layers.Dense(architecture[0], activation=\"elu\", input_shape=(input_dim,))] + [layers.Dense(dim, activation=\"elu\") for dim in architecture[1:]]\n",
    "        self.decoder = [layers.Dense(dim, activation=\"elu\") for dim in architecture[::-1][1:]]\n",
    "        \n",
    "    def call(self, x):\n",
    "        # encoder\n",
    "        for l in self.encoder:\n",
    "            x = l(x)\n",
    "        # decoder\n",
    "        for l in self.decoder:\n",
    "            x = l(x)\n",
    "        return x\n",
    "    \n",
    "    def mad_score(self, points):\n",
    "        \"\"\"https://www.itl.nist.gov/div898/handbook/eda/section3/eda35h.htm \"\"\"\n",
    "        m = np.median(points)\n",
    "        ad = np.abs(points - m)\n",
    "        mad = np.median(ad)\n",
    "\n",
    "        return 0.6745 * ad / mad\n",
    "    \n",
    "    def get_outliers(self, x, threshold: float=3.5):\n",
    "        reconstructions = self.predict(x)\n",
    "        mse = np.mean(np.power(x - reconstructions, 2), axis=1)\n",
    "        z_scores = self.mad_score(mse)\n",
    "        return z_scores > threshold"
   ]
  },
  {
   "cell_type": "code",
   "execution_count": 55,
   "id": "73587bfd",
   "metadata": {},
   "outputs": [],
   "source": [
    "autoencoder = AutoEncoders(input_dim=input_dim, architecture=[input_dim, 16, 8 ,4 ,2])"
   ]
  },
  {
   "cell_type": "code",
   "execution_count": 60,
   "id": "79dc3fe2",
   "metadata": {},
   "outputs": [],
   "source": [
    "autoencoder.compile(optimizer=optimizers.RMSprop(learning_rate=1e-3),  # try `RMSprop`\n",
    "                    loss=metrics.mean_squared_error,\n",
    "                    metrics=[\"acc\"])"
   ]
  },
  {
   "cell_type": "code",
   "execution_count": 61,
   "id": "1137c283",
   "metadata": {},
   "outputs": [],
   "source": [
    "yyyymmddHHMM = datetime.now().strftime('%Y%m%d%H%M')\n",
    "\n",
    "log_subdir = f'{yyyymmddHHMM}_batch{BATCH_SIZE}_layers{len(autoencoder.layers)}'\n",
    "\n",
    "config = wandb.config\n",
    "# config.learning_rate = 0.01\n",
    "\n",
    "early_stop = callbacks.EarlyStopping(\n",
    "    monitor='val_loss',\n",
    "    min_delta=0.0001,\n",
    "    patience=10,\n",
    "    verbose=1, \n",
    "    mode='min',\n",
    "    restore_best_weights=True\n",
    ")\n",
    "\n",
    "save_model = callbacks.ModelCheckpoint(\n",
    "    filepath='autoencoder_best_weights.tf',\n",
    "    save_best_only=True,\n",
    "    monitor='val_loss',\n",
    "    verbose=0,\n",
    "    mode='min'\n",
    ")\n",
    "\n",
    "cb = [early_stop, save_model]# , WandbCallback(save_format=\"tf\")]"
   ]
  },
  {
   "cell_type": "markdown",
   "id": "a6d4b2af",
   "metadata": {},
   "source": [
    "# Training"
   ]
  },
  {
   "cell_type": "code",
   "execution_count": 62,
   "id": "c6da8bfc",
   "metadata": {},
   "outputs": [],
   "source": [
    "EPOCHS = 100"
   ]
  },
  {
   "cell_type": "code",
   "execution_count": 63,
   "id": "511fadde",
   "metadata": {},
   "outputs": [
    {
     "name": "stdout",
     "output_type": "stream",
     "text": [
      "Epoch 1/100\n",
      "3907/3907 [==============================] - 6s 1ms/step - loss: 7.6962e-04 - acc: 0.9988 - val_loss: 9.7723e-05 - val_acc: 0.9999\n",
      "INFO:tensorflow:Assets written to: autoencoder_best_weights.tf/assets\n",
      "Epoch 2/100\n",
      "3907/3907 [==============================] - 5s 1ms/step - loss: 1.1882e-04 - acc: 0.9999 - val_loss: 6.2081e-05 - val_acc: 0.9999\n",
      "INFO:tensorflow:Assets written to: autoencoder_best_weights.tf/assets\n",
      "Epoch 3/100\n",
      "3907/3907 [==============================] - 5s 1ms/step - loss: 9.2320e-05 - acc: 0.9999 - val_loss: 6.8616e-05 - val_acc: 0.9999\n",
      "Epoch 4/100\n",
      "3907/3907 [==============================] - 5s 1ms/step - loss: 7.1296e-05 - acc: 0.9999 - val_loss: 4.4509e-05 - val_acc: 0.9999\n",
      "INFO:tensorflow:Assets written to: autoencoder_best_weights.tf/assets\n",
      "Epoch 5/100\n",
      "3907/3907 [==============================] - 5s 1ms/step - loss: 5.7367e-05 - acc: 0.9999 - val_loss: 2.0978e-05 - val_acc: 0.9999\n",
      "INFO:tensorflow:Assets written to: autoencoder_best_weights.tf/assets\n",
      "Epoch 6/100\n",
      "3907/3907 [==============================] - 5s 1ms/step - loss: 4.9610e-05 - acc: 0.9999 - val_loss: 2.2587e-05 - val_acc: 0.9999\n",
      "Epoch 7/100\n",
      "3907/3907 [==============================] - 5s 1ms/step - loss: 4.5908e-05 - acc: 0.9999 - val_loss: 2.4628e-05 - val_acc: 0.9999\n",
      "Epoch 8/100\n",
      "3907/3907 [==============================] - 5s 1ms/step - loss: 4.3228e-05 - acc: 0.9999 - val_loss: 1.6256e-05 - val_acc: 0.9999\n",
      "INFO:tensorflow:Assets written to: autoencoder_best_weights.tf/assets\n",
      "Epoch 9/100\n",
      "3907/3907 [==============================] - 5s 1ms/step - loss: 4.0829e-05 - acc: 0.9998 - val_loss: 1.5712e-05 - val_acc: 0.9999\n",
      "INFO:tensorflow:Assets written to: autoencoder_best_weights.tf/assets\n",
      "Epoch 10/100\n",
      "3907/3907 [==============================] - 5s 1ms/step - loss: 3.8992e-05 - acc: 0.9998 - val_loss: 1.6703e-05 - val_acc: 0.9998\n",
      "Epoch 11/100\n",
      "3907/3907 [==============================] - 5s 1ms/step - loss: 3.7673e-05 - acc: 0.9998 - val_loss: 1.9161e-05 - val_acc: 0.9999\n",
      "Restoring model weights from the end of the best epoch.\n",
      "Epoch 00011: early stopping\n"
     ]
    }
   ],
   "source": [
    "history = autoencoder.fit(\n",
    "    X_train_transformed, X_train_transformed,\n",
    "    shuffle=True,\n",
    "    epochs=EPOCHS,\n",
    "    batch_size=BATCH_SIZE,\n",
    "    callbacks=cb,\n",
    "    validation_data=(X_validate_transformed, X_validate_transformed)\n",
    ")"
   ]
  },
  {
   "cell_type": "code",
   "execution_count": 64,
   "id": "68ad3fca",
   "metadata": {},
   "outputs": [
    {
     "name": "stdout",
     "output_type": "stream",
     "text": [
      "Model: \"autoencoder\"\n",
      "_________________________________________________________________\n",
      "Layer (type)                 Output Shape              Param #   \n",
      "=================================================================\n",
      "dense (Dense)                multiple                  90        \n",
      "_________________________________________________________________\n",
      "dense_1 (Dense)              multiple                  160       \n",
      "_________________________________________________________________\n",
      "dense_2 (Dense)              multiple                  136       \n",
      "_________________________________________________________________\n",
      "dense_3 (Dense)              multiple                  36        \n",
      "_________________________________________________________________\n",
      "dense_4 (Dense)              multiple                  10        \n",
      "_________________________________________________________________\n",
      "dense_5 (Dense)              multiple                  12        \n",
      "_________________________________________________________________\n",
      "dense_6 (Dense)              multiple                  40        \n",
      "_________________________________________________________________\n",
      "dense_7 (Dense)              multiple                  144       \n",
      "_________________________________________________________________\n",
      "dense_8 (Dense)              multiple                  153       \n",
      "=================================================================\n",
      "Total params: 781\n",
      "Trainable params: 781\n",
      "Non-trainable params: 0\n",
      "_________________________________________________________________\n"
     ]
    }
   ],
   "source": [
    "autoencoder.summary()"
   ]
  },
  {
   "cell_type": "code",
   "execution_count": 143,
   "id": "499f79b0",
   "metadata": {},
   "outputs": [],
   "source": [
    "reconstructions_train = autoencoder.predict(X_train_transformed) "
   ]
  },
  {
   "cell_type": "code",
   "execution_count": 144,
   "id": "5df33265",
   "metadata": {},
   "outputs": [
    {
     "data": {
      "text/plain": [
       "(282925,)"
      ]
     },
     "execution_count": 144,
     "metadata": {},
     "output_type": "execute_result"
    }
   ],
   "source": [
    "mse_train = np.mean(np.power(X_train_transformed - reconstructions_train, 2), axis=1)\n",
    "mse.shape"
   ]
  },
  {
   "cell_type": "code",
   "execution_count": 145,
   "id": "ae3ed30f",
   "metadata": {},
   "outputs": [],
   "source": [
    "X_test_transformed = pipeline.transform(X_test)\n",
    "reconstructions_test = autoencoder.predict(X_test_transformed)"
   ]
  },
  {
   "cell_type": "code",
   "execution_count": 146,
   "id": "c13e4169",
   "metadata": {},
   "outputs": [
    {
     "data": {
      "text/plain": [
       "(282925,)"
      ]
     },
     "execution_count": 146,
     "metadata": {},
     "output_type": "execute_result"
    }
   ],
   "source": [
    "mse_test = np.mean(np.power(X_test_transformed - reconstructions_test, 2), axis=1)\n",
    "mse_test.shape"
   ]
  },
  {
   "cell_type": "code",
   "execution_count": 228,
   "id": "1539c16d",
   "metadata": {},
   "outputs": [],
   "source": [
    "clean = mse[y_test.identify.astype(int).values ==0]\n",
    "mal = mse[y_test.identify.astype(int).values ==1]"
   ]
  },
  {
   "cell_type": "code",
   "execution_count": 230,
   "id": "b968f351",
   "metadata": {},
   "outputs": [
    {
     "data": {
      "text/plain": [
       "(array([6.25, 0.  , 0.  , 0.  , 0.  , 0.  , 0.  , 0.  , 0.  , 0.  , 0.  ,\n",
       "        0.  , 0.  , 0.  , 0.  , 0.  , 0.  , 0.  , 0.  , 0.  , 0.  , 0.  ,\n",
       "        0.  , 0.  , 0.  , 0.  , 0.  , 0.  , 0.  , 0.  , 0.  , 0.  , 0.  ,\n",
       "        0.  , 0.  , 0.  , 0.  , 0.  , 0.  , 0.  , 0.  , 0.  , 0.  , 0.  ,\n",
       "        0.  , 0.  , 0.  , 0.  , 0.  , 0.  ]),\n",
       " array([0.  , 0.16, 0.32, 0.48, 0.64, 0.8 , 0.96, 1.12, 1.28, 1.44, 1.6 ,\n",
       "        1.76, 1.92, 2.08, 2.24, 2.4 , 2.56, 2.72, 2.88, 3.04, 3.2 , 3.36,\n",
       "        3.52, 3.68, 3.84, 4.  , 4.16, 4.32, 4.48, 4.64, 4.8 , 4.96, 5.12,\n",
       "        5.28, 5.44, 5.6 , 5.76, 5.92, 6.08, 6.24, 6.4 , 6.56, 6.72, 6.88,\n",
       "        7.04, 7.2 , 7.36, 7.52, 7.68, 7.84, 8.  ]),\n",
       " <BarContainer object of 50 artists>)"
      ]
     },
     "execution_count": 230,
     "metadata": {},
     "output_type": "execute_result"
    },
    {
     "data": {
      "text/plain": [
       "(array([6.25, 0.  , 0.  , 0.  , 0.  , 0.  , 0.  , 0.  , 0.  , 0.  , 0.  ,\n",
       "        0.  , 0.  , 0.  , 0.  , 0.  , 0.  , 0.  , 0.  , 0.  , 0.  , 0.  ,\n",
       "        0.  , 0.  , 0.  , 0.  , 0.  , 0.  , 0.  , 0.  , 0.  , 0.  , 0.  ,\n",
       "        0.  , 0.  , 0.  , 0.  , 0.  , 0.  , 0.  , 0.  , 0.  , 0.  , 0.  ,\n",
       "        0.  , 0.  , 0.  , 0.  , 0.  , 0.  ]),\n",
       " array([0.  , 0.16, 0.32, 0.48, 0.64, 0.8 , 0.96, 1.12, 1.28, 1.44, 1.6 ,\n",
       "        1.76, 1.92, 2.08, 2.24, 2.4 , 2.56, 2.72, 2.88, 3.04, 3.2 , 3.36,\n",
       "        3.52, 3.68, 3.84, 4.  , 4.16, 4.32, 4.48, 4.64, 4.8 , 4.96, 5.12,\n",
       "        5.28, 5.44, 5.6 , 5.76, 5.92, 6.08, 6.24, 6.4 , 6.56, 6.72, 6.88,\n",
       "        7.04, 7.2 , 7.36, 7.52, 7.68, 7.84, 8.  ]),\n",
       " <BarContainer object of 50 artists>)"
      ]
     },
     "execution_count": 230,
     "metadata": {},
     "output_type": "execute_result"
    },
    {
     "data": {
      "text/plain": [
       "Text(0.5, 1.0, '(Normalized) Distribution of the Reconstruction Loss')"
      ]
     },
     "execution_count": 230,
     "metadata": {},
     "output_type": "execute_result"
    },
    {
     "data": {
      "text/plain": [
       "<matplotlib.legend.Legend at 0x7f05192a58e0>"
      ]
     },
     "execution_count": 230,
     "metadata": {},
     "output_type": "execute_result"
    },
    {
     "data": {
      "image/png": "[encoded data removed]",
      "text/plain": [
       "<Figure size 432x432 with 1 Axes>"
      ]
     },
     "metadata": {
      "needs_background": "light"
     },
     "output_type": "display_data"
    }
   ],
   "source": [
    "%matplotlib inline\n",
    "fig, ax = plt.subplots(figsize=(6,6))\n",
    "\n",
    "ax.hist(clean, bins=50, density=True, label=\"clean\", alpha=.6, color=\"green\", range=[0, 8], align='mid')\n",
    "ax.hist(mal, bins=50, density=True, label=\"malicious\", alpha=.6, color=\"red\", range=[0, 8], align='mid')\n",
    "\n",
    "plt.title(\"(Normalized) Distribution of the Reconstruction Loss\")\n",
    "plt.legend()\n",
    "plt.show()"
   ]
  },
  {
   "cell_type": "code",
   "execution_count": 149,
   "id": "375117ae",
   "metadata": {},
   "outputs": [],
   "source": [
    "from sklearn.cluster import KMeans\n",
    "\n",
    "KMeans_model = KMeans(n_clusters=2)\n",
    "kmean = KMeans_model.fit(mse_train.reshape(-1, 1))"
   ]
  },
  {
   "cell_type": "code",
   "execution_count": 150,
   "id": "83f390ea",
   "metadata": {},
   "outputs": [],
   "source": [
    "res = kmean.predict(mse_test.reshape(-1, 1))"
   ]
  },
  {
   "cell_type": "code",
   "execution_count": 151,
   "id": "4f7e7c2b",
   "metadata": {},
   "outputs": [
    {
     "data": {
      "text/plain": [
       "0"
      ]
     },
     "execution_count": 151,
     "metadata": {},
     "output_type": "execute_result"
    }
   ],
   "source": [
    "(res[res]==1).sum()"
   ]
  },
  {
   "cell_type": "code",
   "execution_count": 152,
   "id": "f978aedc",
   "metadata": {},
   "outputs": [
    {
     "data": {
      "text/plain": [
       "174"
      ]
     },
     "execution_count": 152,
     "metadata": {},
     "output_type": "execute_result"
    }
   ],
   "source": [
    "(kmean.labels_ == 1).sum()"
   ]
  },
  {
   "cell_type": "code",
   "execution_count": 160,
   "id": "66fea5a7",
   "metadata": {},
   "outputs": [],
   "source": [
    "def mad_score(points):\n",
    "    \"\"\"https://www.itl.nist.gov/div898/handbook/eda/section3/eda35h.htm \"\"\"\n",
    "    m = np.median(points)\n",
    "    ad = np.abs(points - m)\n",
    "    mad = np.median(ad)\n",
    "    \n",
    "    return 0.6745 * ad / mad"
   ]
  },
  {
   "cell_type": "code",
   "execution_count": 257,
   "id": "ffecfa16",
   "metadata": {},
   "outputs": [],
   "source": [
    "THRESHOLD = 3.5\n",
    "\n",
    "z_scores = mad_score(mse_test)\n",
    "outliers = z_scores > THRESHOLD"
   ]
  },
  {
   "cell_type": "code",
   "execution_count": 258,
   "id": "9a800ecc",
   "metadata": {},
   "outputs": [
    {
     "name": "stdout",
     "output_type": "stream",
     "text": [
      "Detected 30,740 outliers in a total of 282,925 transactions [10.87%].\n"
     ]
    }
   ],
   "source": [
    "print(f\"Detected {np.sum(outliers):,} outliers in a total of {np.size(z_scores):,} transactions [{np.sum(outliers)/np.size(z_scores):.2%}].\")"
   ]
  },
  {
   "cell_type": "code",
   "execution_count": 259,
   "id": "b43d199c",
   "metadata": {},
   "outputs": [],
   "source": [
    "from sklearn.metrics import (confusion_matrix, \n",
    "                             precision_recall_curve)\n",
    "\n",
    "# get (mis)classification\n",
    "cm = confusion_matrix(y_test, outliers)\n",
    "\n",
    "# true/false positives/negatives\n",
    "(tn, fp, \n",
    " fn, tp) = cm.flatten()\n"
   ]
  },
  {
   "cell_type": "code",
   "execution_count": 260,
   "id": "9a080743",
   "metadata": {},
   "outputs": [
    {
     "name": "stdout",
     "output_type": "stream",
     "text": [
      "The classifications using the MAD method with threshold=3.5 are as follows:\n",
      "[[252182  30669]\n",
      " [     3     71]]\n",
      "\n",
      "% of transactions labeled as malicious that were correct (precision): 71/(30669+71) = 0.23%\n",
      "% of malicious transactions were caught succesfully (recall):    71/(3+71) = 95.95%\n"
     ]
    }
   ],
   "source": [
    "print(f\"\"\"The classifications using the MAD method with threshold={THRESHOLD} are as follows:\n",
    "{cm}\n",
    "\n",
    "% of transactions labeled as malicious that were correct (precision): {tp}/({fp}+{tp}) = {tp/(fp+tp):.2%}\n",
    "% of malicious transactions were caught succesfully (recall):    {tp}/({fn}+{tp}) = {tp/(fn+tp):.2%}\"\"\")"
   ]
  },
  {
   "cell_type": "code",
   "execution_count": 261,
   "id": "9d873327",
   "metadata": {},
   "outputs": [],
   "source": [
    "# get metrics\n",
    "fpr, tpr, auc_score = get_auc(y_test, outliers)\n",
    "precision, recall, aucpr_score = get_aucpr(y_test, outliers)"
   ]
  },
  {
   "cell_type": "code",
   "execution_count": 262,
   "id": "2a07b8e6",
   "metadata": {},
   "outputs": [
    {
     "data": {
      "text/plain": [
       "(array([0.        , 0.10842811, 1.        ]),\n",
       " array([0.        , 0.95945946, 1.        ]))"
      ]
     },
     "execution_count": 262,
     "metadata": {},
     "output_type": "execute_result"
    }
   ],
   "source": [
    "fpr, tpr"
   ]
  },
  {
   "cell_type": "code",
   "execution_count": 265,
   "id": "e4a24b29",
   "metadata": {},
   "outputs": [
    {
     "data": {
      "text/plain": [
       "(array([2.61553415e-04, 2.30969421e-03, 1.00000000e+00]),\n",
       " array([1.        , 0.95945946, 0.        ]))"
      ]
     },
     "execution_count": 265,
     "metadata": {},
     "output_type": "execute_result"
    }
   ],
   "source": [
    "precision, recall"
   ]
  },
  {
   "cell_type": "code",
   "execution_count": 263,
   "id": "4203e386",
   "metadata": {},
   "outputs": [
    {
     "data": {
      "text/plain": [
       "0.9255156735658836"
      ]
     },
     "execution_count": 263,
     "metadata": {},
     "output_type": "execute_result"
    }
   ],
   "source": [
    "auc_score"
   ]
  },
  {
   "cell_type": "code",
   "execution_count": 264,
   "id": "4d484da5",
   "metadata": {},
   "outputs": [
    {
     "data": {
      "text/plain": [
       "0.4806283251776797"
      ]
     },
     "execution_count": 264,
     "metadata": {},
     "output_type": "execute_result"
    }
   ],
   "source": [
    "aucpr_score"
   ]
  },
  {
   "cell_type": "code",
   "execution_count": 254,
   "id": "8dcc1a5e",
   "metadata": {},
   "outputs": [],
   "source": [
    "clean = z_scores[y_test.identify.astype(int).values ==0]\n",
    "mal = z_scores[y_test.identify.astype(int).values ==1]"
   ]
  },
  {
   "cell_type": "code",
   "execution_count": 255,
   "id": "8e55e1b6",
   "metadata": {},
   "outputs": [
    {
     "data": {
      "text/plain": [
       "(array([1.65668637e+00, 9.82548159e-01, 5.34538842e-01, 1.87148601e-01,\n",
       "        1.57193304e-01, 3.69016621e-01, 9.52568859e-01, 1.01219142e-01,\n",
       "        4.55570149e-02, 1.96581640e-02, 5.64062092e-02, 1.70178733e-02,\n",
       "        1.68498548e-02, 2.27545048e-02, 1.84340292e-02, 2.05942670e-02,\n",
       "        2.19864203e-02, 1.91061032e-02, 6.22388513e-02, 3.70624798e-01,\n",
       "        3.45830069e-01, 8.61214803e-02, 5.76303439e-02, 4.79572791e-02,\n",
       "        2.29705286e-02, 6.67273453e-03, 5.08856015e-03, 3.79241747e-03,\n",
       "        3.14434613e-03, 3.79241747e-03, 3.36036991e-03, 2.20824308e-03,\n",
       "        1.84820345e-03, 1.99221930e-03, 1.96821666e-03, 1.32014532e-03,\n",
       "        1.84820345e-03, 2.04022459e-03, 7.20079266e-04, 7.44081909e-04,\n",
       "        9.84108331e-04, 6.48071340e-04, 5.76063413e-04, 4.08044918e-04,\n",
       "        4.56050202e-04, 5.52060771e-04, 7.68084551e-04, 2.47227215e-03,\n",
       "        4.48849409e-03, 5.44859978e-03]),\n",
       " array([0.  , 0.16, 0.32, 0.48, 0.64, 0.8 , 0.96, 1.12, 1.28, 1.44, 1.6 ,\n",
       "        1.76, 1.92, 2.08, 2.24, 2.4 , 2.56, 2.72, 2.88, 3.04, 3.2 , 3.36,\n",
       "        3.52, 3.68, 3.84, 4.  , 4.16, 4.32, 4.48, 4.64, 4.8 , 4.96, 5.12,\n",
       "        5.28, 5.44, 5.6 , 5.76, 5.92, 6.08, 6.24, 6.4 , 6.56, 6.72, 6.88,\n",
       "        7.04, 7.2 , 7.36, 7.52, 7.68, 7.84, 8.  ]),\n",
       " <BarContainer object of 50 artists>)"
      ]
     },
     "execution_count": 255,
     "metadata": {},
     "output_type": "execute_result"
    },
    {
     "data": {
      "text/plain": [
       "(array([0.     , 0.     , 0.     , 0.     , 0.     , 0.     , 2.34375,\n",
       "        0.     , 0.     , 0.     , 0.     , 0.     , 0.     , 0.     ,\n",
       "        0.     , 0.     , 0.     , 0.     , 0.     , 0.     , 0.     ,\n",
       "        0.     , 0.     , 0.78125, 0.     , 0.78125, 0.     , 0.     ,\n",
       "        0.     , 0.     , 0.     , 0.     , 0.     , 0.     , 0.78125,\n",
       "        0.     , 0.78125, 0.78125, 0.     , 0.     , 0.     , 0.     ,\n",
       "        0.     , 0.     , 0.     , 0.     , 0.     , 0.     , 0.     ,\n",
       "        0.     ]),\n",
       " array([0.  , 0.16, 0.32, 0.48, 0.64, 0.8 , 0.96, 1.12, 1.28, 1.44, 1.6 ,\n",
       "        1.76, 1.92, 2.08, 2.24, 2.4 , 2.56, 2.72, 2.88, 3.04, 3.2 , 3.36,\n",
       "        3.52, 3.68, 3.84, 4.  , 4.16, 4.32, 4.48, 4.64, 4.8 , 4.96, 5.12,\n",
       "        5.28, 5.44, 5.6 , 5.76, 5.92, 6.08, 6.24, 6.4 , 6.56, 6.72, 6.88,\n",
       "        7.04, 7.2 , 7.36, 7.52, 7.68, 7.84, 8.  ]),\n",
       " <BarContainer object of 50 artists>)"
      ]
     },
     "execution_count": 255,
     "metadata": {},
     "output_type": "execute_result"
    },
    {
     "data": {
      "text/plain": [
       "Text(0.5, 1.0, 'Distribution of the modified z-scores')"
      ]
     },
     "execution_count": 255,
     "metadata": {},
     "output_type": "execute_result"
    },
    {
     "data": {
      "text/plain": [
       "<matplotlib.legend.Legend at 0x7f0518814700>"
      ]
     },
     "execution_count": 255,
     "metadata": {},
     "output_type": "execute_result"
    },
    {
     "data": {
      "image/png": "[encoded data removed]",
      "text/plain": [
       "<Figure size 432x432 with 1 Axes>"
      ]
     },
     "metadata": {
      "needs_background": "light"
     },
     "output_type": "display_data"
    }
   ],
   "source": [
    "fig, ax = plt.subplots(figsize=(6,6))\n",
    "\n",
    "ax.hist(clean, bins=50, density=True, label=\"clean\", alpha=.6, color=\"green\", range=[0, 8], align='mid')\n",
    "ax.hist(mal, bins=50, density=True, label=\"malicious\", alpha=.6, color=\"red\", range=[0, 8], align='mid')\n",
    "\n",
    "plt.savefig('z_score_dist_threshold_3_5.png')\n",
    "plt.title(\"Distribution of the modified z-scores\")\n",
    "plt.legend()\n",
    "plt.show()"
   ]
  },
  {
   "cell_type": "code",
   "execution_count": 188,
   "id": "dfc6d84c",
   "metadata": {},
   "outputs": [
    {
     "name": "stdout",
     "output_type": "stream",
     "text": [
      "Model: \"sequential\"\n",
      "_________________________________________________________________\n",
      "Layer (type)                 Output Shape              Param #   \n",
      "=================================================================\n",
      "dense_9 (Dense)              (None, 9)                 90        \n",
      "_________________________________________________________________\n",
      "dense_10 (Dense)             (None, 16)                160       \n",
      "_________________________________________________________________\n",
      "dense_11 (Dense)             (None, 8)                 136       \n",
      "_________________________________________________________________\n",
      "dense_12 (Dense)             (None, 4)                 36        \n",
      "_________________________________________________________________\n",
      "dense_13 (Dense)             (None, 2)                 10        \n",
      "=================================================================\n",
      "Total params: 432\n",
      "Trainable params: 432\n",
      "Non-trainable params: 0\n",
      "_________________________________________________________________\n"
     ]
    }
   ],
   "source": [
    "encoder = tf.keras.models.Sequential(autoencoder.encoder)\n",
    "encoder.summary()"
   ]
  },
  {
   "cell_type": "code",
   "execution_count": 192,
   "id": "d53e1639",
   "metadata": {},
   "outputs": [],
   "source": [
    "# taking all the fraud, undersampling clean\n",
    "mal = X_test_transformed[y_test.identify.astype(int).values ==1]\n",
    "clean = X_test_transformed[y_test.identify.astype(int).values ==0][:len(mal) * RATIO_TO_MALICIOUS, ]"
   ]
  },
  {
   "cell_type": "code",
   "execution_count": 193,
   "id": "4d77d896",
   "metadata": {},
   "outputs": [
    {
     "name": "stdout",
     "output_type": "stream",
     "text": [
      "Clean transactions downsampled from 282,851 to 1,110.\n",
      "Shape of latent representation: (1184, 2)\n"
     ]
    }
   ],
   "source": [
    "# combining arrays & building labels\n",
    "features = np.append(mal, clean, axis=0)\n",
    "labels = np.append(np.ones(len(mal)),\n",
    "                   np.zeros(len(clean)))\n",
    "\n",
    "# getting latent space representation\n",
    "latent_representation = encoder.predict(features)\n",
    "\n",
    "print(f'Clean transactions downsampled from {len(X_test_transformed[y_test.identify.astype(int).values ==0]):,} to {len(clean):,}.')\n",
    "print('Shape of latent representation:', latent_representation.shape)"
   ]
  },
  {
   "cell_type": "code",
   "execution_count": 195,
   "id": "65ff2c0c",
   "metadata": {},
   "outputs": [
    {
     "data": {
      "text/plain": [
       "(<Figure size 576x576 with 1 Axes>, <AxesSubplot:>)"
      ]
     },
     "execution_count": 195,
     "metadata": {},
     "output_type": "execute_result"
    },
    {
     "data": {
      "text/plain": [
       "<matplotlib.collections.PathCollection at 0x7f0515536e50>"
      ]
     },
     "execution_count": 195,
     "metadata": {},
     "output_type": "execute_result"
    },
    {
     "data": {
      "text/plain": [
       "<matplotlib.collections.PathCollection at 0x7f0515536eb0>"
      ]
     },
     "execution_count": 195,
     "metadata": {},
     "output_type": "execute_result"
    },
    {
     "data": {
      "text/plain": [
       "<matplotlib.legend.Legend at 0x7f0515536d30>"
      ]
     },
     "execution_count": 195,
     "metadata": {},
     "output_type": "execute_result"
    },
    {
     "data": {
      "text/plain": [
       "Text(0.5, 1.0, 'Latent Space Representation')"
      ]
     },
     "execution_count": 195,
     "metadata": {},
     "output_type": "execute_result"
    },
    {
     "data": {
      "image/png": "[encoded data removed]",
      "text/plain": [
       "<Figure size 576x576 with 1 Axes>"
      ]
     },
     "metadata": {
      "needs_background": "light"
     },
     "output_type": "display_data"
    }
   ],
   "source": [
    "X = latent_representation[:,0]\n",
    "y = latent_representation[:,1]\n",
    "\n",
    "# plotting\n",
    "plt.subplots(figsize=(8, 8))\n",
    "plt.scatter(X[labels==0], y[labels==0], s=1, c='g', alpha=0.3, label='Clean')\n",
    "plt.scatter(X[labels==1], y[labels==1], s=2, c='r', alpha=0.7, label='Malicious')\n",
    "\n",
    "# labeling\n",
    "plt.legend(loc='best')\n",
    "plt.title('Latent Space Representation')\n",
    "\n",
    "# saving & displaying\n",
    "plt.savefig('latent_representation_2d')\n",
    "plt.show()"
   ]
  },
  {
   "cell_type": "code",
   "execution_count": null,
   "id": "5a1a791b",
   "metadata": {},
   "outputs": [],
   "source": []
  }
 ],
 "metadata": {
  "kernelspec": {
   "display_name": "Python 3 (ipykernel)",
   "language": "python",
   "name": "python3"
  },
  "language_info": {
   "codemirror_mode": {
    "name": "ipython",
    "version": 3
   },
   "file_extension": ".py",
   "mimetype": "text/x-python",
   "name": "python",
   "nbconvert_exporter": "python",
   "pygments_lexer": "ipython3",
   "version": "3.8.10"
  }
 },
 "nbformat": 4,
 "nbformat_minor": 5
}
